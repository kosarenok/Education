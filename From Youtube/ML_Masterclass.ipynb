{
 "cells": [
  {
   "attachments": {},
   "cell_type": "markdown",
   "metadata": {},
   "source": [
    "#### Олег Мельников и Алексей Болдырев"
   ]
  },
  {
   "attachments": {},
   "cell_type": "markdown",
   "metadata": {},
   "source": [
    "ИИ - алгоритм (пошаговые инструкции) имитирующие человеческий интелект и принятие решений:\n",
    "1. Инструкции разработанные вручную\n",
    "2. Инструкцииавтоматически обученные на данных - машинное обучение (МО)"
   ]
  },
  {
   "attachments": {},
   "cell_type": "markdown",
   "metadata": {},
   "source": [
    "## Виды моделей МО\n",
    "\n",
    "### Регрессия\n",
    "\n",
    " Предсказание числительной переменной\n",
    "\n",
    "    1. Стоимость бриллианта, билетов, акций ...\n",
    "    2. Требуемое время или другой ресурс\n",
    "    3. Вероятность выигриша участников ( в соревнованиях, выборах ...)\n",
    "\n",
    "### Классификация\n",
    " Теорема \"No free lunch\" Дэвида Волперта: \"Any two optimization algorhitms are equivalent when their performanceis averaged across all possible prblems\"\n",
    " В реальном мире \"All models are wrong, but some are useful\" (Джордж Бокс) \n",
    "### \n",
    "###"
   ]
  },
  {
   "cell_type": "markdown",
   "metadata": {},
   "source": []
  }
 ],
 "metadata": {
  "kernelspec": {
   "display_name": "Python 3",
   "language": "python",
   "name": "python3"
  },
  "language_info": {
   "name": "python",
   "version": "3.10.2"
  },
  "orig_nbformat": 4,
  "vscode": {
   "interpreter": {
    "hash": "aee8b7b246df8f9039afb4144a1f6fd8d2ca17a180786b69acc140d282b71a49"
   }
  }
 },
 "nbformat": 4,
 "nbformat_minor": 2
}
