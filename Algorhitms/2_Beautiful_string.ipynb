{
 "cells": [
  {
   "attachments": {},
   "cell_type": "markdown",
   "metadata": {},
   "source": [
    "# Красивая строка\n",
    "\n",
    "Красотой строки назовем максимальное число идущих подряд одинаковых букв. (красота строки abcaabdddettq равна 3)\n",
    "\n",
    "Сделайте данную вам строку как можно более красивой, если вы можете сделать не более k операций замены символа.\n",
    "\n",
    "### Формат ввода\n",
    "В первой строке записано одно целое число k (0 ≤ k ≤ 109)\n",
    "\n",
    "Во второй строке дана непустая строчка S (|S| ≤ 2 ⋅ 105). Строчка S состоит только из маленьких латинских букв.\n",
    "\n",
    "### Формат вывода\n",
    "Выведите одно число — максимально возможную красоту строчки, которую можно получить.\n",
    "\n"
   ]
  },
  {
   "cell_type": "code",
   "execution_count": 15,
   "metadata": {},
   "outputs": [
    {
     "name": "stdout",
     "output_type": "stream",
     "text": [
      "3\n"
     ]
    }
   ],
   "source": [
    "with open('input.txt') as f:\n",
    "    text = f.readlines()\n",
    "\n",
    "number = int(text[0])\n",
    "string = str(text[1])\n",
    "\n",
    "maximum = 1\n",
    "prev_letter = str\n",
    "\n",
    "for letter in string:\n",
    "    if letter == prev_letter:\n",
    "        maximum += 1\n",
    "    prev_letter = letter    \n",
    "\n",
    "print(int(maximum + number))"
   ]
  },
  {
   "cell_type": "code",
   "execution_count": 12,
   "metadata": {},
   "outputs": [
    {
     "data": {
      "text/plain": [
       "{'a': 9,\n",
       " 'c': 3,\n",
       " 'z': 1,\n",
       " 'x': 1,\n",
       " 'v': 1,\n",
       " 'b': 1,\n",
       " 'n': 1,\n",
       " 'm': 1,\n",
       " 's': 1,\n",
       " 'd': 1,\n",
       " 'f': 1,\n",
       " 'g': 1,\n",
       " 'h': 1,\n",
       " 'j': 1,\n",
       " 'k': 1,\n",
       " 'i': 1,\n",
       " '\\n': 1}"
      ]
     },
     "execution_count": 12,
     "metadata": {},
     "output_type": "execute_result"
    }
   ],
   "source": []
  }
 ],
 "metadata": {
  "kernelspec": {
   "display_name": "Python 3",
   "language": "python",
   "name": "python3"
  },
  "language_info": {
   "codemirror_mode": {
    "name": "ipython",
    "version": 3
   },
   "file_extension": ".py",
   "mimetype": "text/x-python",
   "name": "python",
   "nbconvert_exporter": "python",
   "pygments_lexer": "ipython3",
   "version": "3.10.2"
  },
  "orig_nbformat": 4,
  "vscode": {
   "interpreter": {
    "hash": "aee8b7b246df8f9039afb4144a1f6fd8d2ca17a180786b69acc140d282b71a49"
   }
  }
 },
 "nbformat": 4,
 "nbformat_minor": 2
}
