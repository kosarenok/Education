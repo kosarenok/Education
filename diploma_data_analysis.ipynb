{
 "cells": [
  {
   "cell_type": "code",
   "execution_count": 1,
   "metadata": {},
   "outputs": [],
   "source": [
    "import pandas as pd\n",
    "import numpy as np"
   ]
  },
  {
   "cell_type": "code",
   "execution_count": 2,
   "metadata": {},
   "outputs": [],
   "source": [
    "pd.options.display.float_format = '{:.2f}'.format\n",
    "pd.options.mode.chained_assignment = None"
   ]
  },
  {
   "attachments": {},
   "cell_type": "markdown",
   "metadata": {},
   "source": [
    "# Анализ товарооборота России только со странами АТР"
   ]
  },
  {
   "cell_type": "code",
   "execution_count": 3,
   "metadata": {},
   "outputs": [
    {
     "name": "stderr",
     "output_type": "stream",
     "text": [
      "/var/folders/n0/z4q56_291yl18hx7bzl2b5b40000gn/T/ipykernel_19077/2087126616.py:1: DtypeWarning: Columns (3,7) have mixed types. Specify dtype option on import or set low_memory=False.\n",
      "  TCBT = pd.read_csv(r\"/Users/kosarenok/Downloads/DATTSVT 2.csv\", sep= \"\\t\",on_bad_lines=\"skip\")\n"
     ]
    },
    {
     "data": {
      "text/html": [
       "<div>\n",
       "<style scoped>\n",
       "    .dataframe tbody tr th:only-of-type {\n",
       "        vertical-align: middle;\n",
       "    }\n",
       "\n",
       "    .dataframe tbody tr th {\n",
       "        vertical-align: top;\n",
       "    }\n",
       "\n",
       "    .dataframe thead th {\n",
       "        text-align: right;\n",
       "    }\n",
       "</style>\n",
       "<table border=\"1\" class=\"dataframe\">\n",
       "  <thead>\n",
       "    <tr style=\"text-align: right;\">\n",
       "      <th></th>\n",
       "      <th>napr</th>\n",
       "      <th>period</th>\n",
       "      <th>nastranapr</th>\n",
       "      <th>tnved</th>\n",
       "      <th>edizm</th>\n",
       "      <th>Stoim</th>\n",
       "      <th>Netto</th>\n",
       "      <th>Kol</th>\n",
       "      <th>Region</th>\n",
       "      <th>Region_s</th>\n",
       "    </tr>\n",
       "  </thead>\n",
       "  <tbody>\n",
       "    <tr>\n",
       "      <th>0</th>\n",
       "      <td>ЭК</td>\n",
       "      <td>02/2019</td>\n",
       "      <td>US</td>\n",
       "      <td>85</td>\n",
       "      <td>NaN</td>\n",
       "      <td>14850,8</td>\n",
       "      <td>99</td>\n",
       "      <td>0</td>\n",
       "      <td>75000 - ЧЕЛЯБИНСКАЯ ОБЛАСТЬ</td>\n",
       "      <td>05-УРАЛЬСКИЙ ФЕДЕРАЛЬНЫЙ ОКРУГ</td>\n",
       "    </tr>\n",
       "    <tr>\n",
       "      <th>1</th>\n",
       "      <td>ИМ</td>\n",
       "      <td>01/2019</td>\n",
       "      <td>CN</td>\n",
       "      <td>57</td>\n",
       "      <td>55.00</td>\n",
       "      <td>10014,27</td>\n",
       "      <td>4137</td>\n",
       "      <td>2584,88</td>\n",
       "      <td>04000 - КРАСНОЯРСКИЙ КРАЙ</td>\n",
       "      <td>06-СИБИРСКИЙ ФЕДЕРАЛЬНЫЙ ОКРУГ</td>\n",
       "    </tr>\n",
       "    <tr>\n",
       "      <th>2</th>\n",
       "      <td>ИМ</td>\n",
       "      <td>01/2019</td>\n",
       "      <td>CN</td>\n",
       "      <td>57</td>\n",
       "      <td>55.00</td>\n",
       "      <td>194512,94</td>\n",
       "      <td>88926,55</td>\n",
       "      <td>58870,71</td>\n",
       "      <td>05000 - ПРИМОРСКИЙ КРАЙ</td>\n",
       "      <td>07-ДАЛЬНЕВОСТОЧНЫЙ ФЕДЕРАЛЬНЫЙ ОКРУГ</td>\n",
       "    </tr>\n",
       "    <tr>\n",
       "      <th>3</th>\n",
       "      <td>ИМ</td>\n",
       "      <td>01/2019</td>\n",
       "      <td>CN</td>\n",
       "      <td>57</td>\n",
       "      <td>55.00</td>\n",
       "      <td>145648,27</td>\n",
       "      <td>68007,03</td>\n",
       "      <td>41792</td>\n",
       "      <td>40000 - ГОРОД САНКТ-ПЕТЕРБУРГ ГОРОД ФЕДЕРАЛЬНО...</td>\n",
       "      <td>02-СЕВЕРО-ЗАПАДНЫЙ ФЕДЕРАЛЬНЫЙ ОКРУГ</td>\n",
       "    </tr>\n",
       "    <tr>\n",
       "      <th>4</th>\n",
       "      <td>ИМ</td>\n",
       "      <td>01/2019</td>\n",
       "      <td>CN</td>\n",
       "      <td>57</td>\n",
       "      <td>55.00</td>\n",
       "      <td>30148,45</td>\n",
       "      <td>4265,7</td>\n",
       "      <td>2511,96</td>\n",
       "      <td>41000 - ЛЕНИНГРАДСКАЯ ОБЛАСТЬ</td>\n",
       "      <td>02-СЕВЕРО-ЗАПАДНЫЙ ФЕДЕРАЛЬНЫЙ ОКРУГ</td>\n",
       "    </tr>\n",
       "    <tr>\n",
       "      <th>...</th>\n",
       "      <td>...</td>\n",
       "      <td>...</td>\n",
       "      <td>...</td>\n",
       "      <td>...</td>\n",
       "      <td>...</td>\n",
       "      <td>...</td>\n",
       "      <td>...</td>\n",
       "      <td>...</td>\n",
       "      <td>...</td>\n",
       "      <td>...</td>\n",
       "    </tr>\n",
       "    <tr>\n",
       "      <th>2457034</th>\n",
       "      <td>ЭК</td>\n",
       "      <td>01/2022</td>\n",
       "      <td>SE</td>\n",
       "      <td>15</td>\n",
       "      <td>NaN</td>\n",
       "      <td>25344</td>\n",
       "      <td>21300</td>\n",
       "      <td>0</td>\n",
       "      <td>46000 - МОСКОВСКАЯ ОБЛАСТЬ</td>\n",
       "      <td>01-ЦЕНТРАЛЬНЫЙ ФЕДЕРАЛЬНЫЙ ОКРУГ</td>\n",
       "    </tr>\n",
       "    <tr>\n",
       "      <th>2457035</th>\n",
       "      <td>ИМ</td>\n",
       "      <td>01/2022</td>\n",
       "      <td>SE</td>\n",
       "      <td>15</td>\n",
       "      <td>NaN</td>\n",
       "      <td>18624</td>\n",
       "      <td>4806,144</td>\n",
       "      <td>0</td>\n",
       "      <td>38000 - КУРСКАЯ ОБЛАСТЬ</td>\n",
       "      <td>01-ЦЕНТРАЛЬНЫЙ ФЕДЕРАЛЬНЫЙ ОКРУГ</td>\n",
       "    </tr>\n",
       "    <tr>\n",
       "      <th>2457036</th>\n",
       "      <td>ЭК</td>\n",
       "      <td>01/2022</td>\n",
       "      <td>RS</td>\n",
       "      <td>15</td>\n",
       "      <td>NaN</td>\n",
       "      <td>132647,08</td>\n",
       "      <td>99399,488</td>\n",
       "      <td>0</td>\n",
       "      <td>46000 - МОСКОВСКАЯ ОБЛАСТЬ</td>\n",
       "      <td>01-ЦЕНТРАЛЬНЫЙ ФЕДЕРАЛЬНЫЙ ОКРУГ</td>\n",
       "    </tr>\n",
       "    <tr>\n",
       "      <th>2457037</th>\n",
       "      <td>ЭК</td>\n",
       "      <td>01/2022</td>\n",
       "      <td>RS</td>\n",
       "      <td>15</td>\n",
       "      <td>NaN</td>\n",
       "      <td>206551,21</td>\n",
       "      <td>154450</td>\n",
       "      <td>0</td>\n",
       "      <td>14000 - БЕЛГОРОДСКАЯ ОБЛАСТЬ</td>\n",
       "      <td>01-ЦЕНТРАЛЬНЫЙ ФЕДЕРАЛЬНЫЙ ОКРУГ</td>\n",
       "    </tr>\n",
       "    <tr>\n",
       "      <th>2457038</th>\n",
       "      <td>ЭК</td>\n",
       "      <td>01/2022</td>\n",
       "      <td>RO</td>\n",
       "      <td>15</td>\n",
       "      <td>NaN</td>\n",
       "      <td>42</td>\n",
       "      <td>20</td>\n",
       "      <td>0</td>\n",
       "      <td>03000 - КРАСНОДАРСКИЙ КРАЙ</td>\n",
       "      <td>03-ЮЖНЫЙ ФЕДЕРАЛЬНЫЙ ОКРУГ</td>\n",
       "    </tr>\n",
       "  </tbody>\n",
       "</table>\n",
       "<p>2457039 rows × 10 columns</p>\n",
       "</div>"
      ],
      "text/plain": [
       "        napr   period nastranapr tnved  edizm      Stoim      Netto       Kol  \\\n",
       "0         ЭК  02/2019         US    85    NaN    14850,8         99         0   \n",
       "1         ИМ  01/2019         CN    57  55.00   10014,27       4137   2584,88   \n",
       "2         ИМ  01/2019         CN    57  55.00  194512,94   88926,55  58870,71   \n",
       "3         ИМ  01/2019         CN    57  55.00  145648,27   68007,03     41792   \n",
       "4         ИМ  01/2019         CN    57  55.00   30148,45     4265,7   2511,96   \n",
       "...      ...      ...        ...   ...    ...        ...        ...       ...   \n",
       "2457034   ЭК  01/2022         SE    15    NaN      25344      21300         0   \n",
       "2457035   ИМ  01/2022         SE    15    NaN      18624   4806,144         0   \n",
       "2457036   ЭК  01/2022         RS    15    NaN  132647,08  99399,488         0   \n",
       "2457037   ЭК  01/2022         RS    15    NaN  206551,21     154450         0   \n",
       "2457038   ЭК  01/2022         RO    15    NaN         42         20         0   \n",
       "\n",
       "                                                    Region  \\\n",
       "0                              75000 - ЧЕЛЯБИНСКАЯ ОБЛАСТЬ   \n",
       "1                                04000 - КРАСНОЯРСКИЙ КРАЙ   \n",
       "2                                  05000 - ПРИМОРСКИЙ КРАЙ   \n",
       "3        40000 - ГОРОД САНКТ-ПЕТЕРБУРГ ГОРОД ФЕДЕРАЛЬНО...   \n",
       "4                            41000 - ЛЕНИНГРАДСКАЯ ОБЛАСТЬ   \n",
       "...                                                    ...   \n",
       "2457034                         46000 - МОСКОВСКАЯ ОБЛАСТЬ   \n",
       "2457035                            38000 - КУРСКАЯ ОБЛАСТЬ   \n",
       "2457036                         46000 - МОСКОВСКАЯ ОБЛАСТЬ   \n",
       "2457037                       14000 - БЕЛГОРОДСКАЯ ОБЛАСТЬ   \n",
       "2457038                         03000 - КРАСНОДАРСКИЙ КРАЙ   \n",
       "\n",
       "                                     Region_s  \n",
       "0              05-УРАЛЬСКИЙ ФЕДЕРАЛЬНЫЙ ОКРУГ  \n",
       "1              06-СИБИРСКИЙ ФЕДЕРАЛЬНЫЙ ОКРУГ  \n",
       "2        07-ДАЛЬНЕВОСТОЧНЫЙ ФЕДЕРАЛЬНЫЙ ОКРУГ  \n",
       "3        02-СЕВЕРО-ЗАПАДНЫЙ ФЕДЕРАЛЬНЫЙ ОКРУГ  \n",
       "4        02-СЕВЕРО-ЗАПАДНЫЙ ФЕДЕРАЛЬНЫЙ ОКРУГ  \n",
       "...                                       ...  \n",
       "2457034      01-ЦЕНТРАЛЬНЫЙ ФЕДЕРАЛЬНЫЙ ОКРУГ  \n",
       "2457035      01-ЦЕНТРАЛЬНЫЙ ФЕДЕРАЛЬНЫЙ ОКРУГ  \n",
       "2457036      01-ЦЕНТРАЛЬНЫЙ ФЕДЕРАЛЬНЫЙ ОКРУГ  \n",
       "2457037      01-ЦЕНТРАЛЬНЫЙ ФЕДЕРАЛЬНЫЙ ОКРУГ  \n",
       "2457038            03-ЮЖНЫЙ ФЕДЕРАЛЬНЫЙ ОКРУГ  \n",
       "\n",
       "[2457039 rows x 10 columns]"
      ]
     },
     "execution_count": 3,
     "metadata": {},
     "output_type": "execute_result"
    }
   ],
   "source": [
    "TCBT = pd.read_csv(r\"/Users/kosarenok/Downloads/DATTSVT 2.csv\", sep= \"\\t\",on_bad_lines=\"skip\")\n",
    "TCBT"
   ]
  },
  {
   "cell_type": "code",
   "execution_count": 4,
   "metadata": {},
   "outputs": [],
   "source": [
    "list_of_countries = [\"AU\", \"BN\", \"VN\", \"HK\", \"ID\", \"CA\", \"CN\", \"KR\",\n",
    "                      \"MY\", \"MX\", \"NZ\", \"PG\" \"PE\", \"SG\", \"US\", \"TH\",\n",
    "                        \"TW\", \"PH\", \"CL\", \"JP\"]\n",
    "\n",
    "list_of_needed_countries = [\"AU\", \"VN\", \"ID\", \"CA\", \"CN\",\n",
    "                             \"KR\", \"MX\", \"SG\", \"US\",\"JP\"]"
   ]
  },
  {
   "cell_type": "code",
   "execution_count": 5,
   "metadata": {},
   "outputs": [],
   "source": [
    "TCBT['Stoim'] = [float(str(i).replace(\",\",\".\")) for i in TCBT['Stoim']]\n",
    "\n",
    "TCBT[\"period\"] = pd.to_datetime(TCBT[\"period\"])\n",
    "\n",
    "TCBT[\"Year\"] = TCBT[\"period\"].dt.year"
   ]
  },
  {
   "cell_type": "code",
   "execution_count": 6,
   "metadata": {},
   "outputs": [],
   "source": [
    "tbct_apr_pivot = (TCBT\n",
    "                  .query(\"nastranapr in @list_of_countries\")\n",
    "                  .pivot_table(values = 'Stoim', index = ['nastranapr'], \n",
    "                               columns = ['Year','napr'], aggfunc = np.sum)\n",
    "                  .to_excel(\"diploma_analysis_wtf.xlsx\", sheet_name=\"Россия и АТР\")\n",
    "                  )\n"
   ]
  },
  {
   "attachments": {},
   "cell_type": "markdown",
   "metadata": {},
   "source": [
    "# Анализ товарооборота России со всеми странами"
   ]
  },
  {
   "cell_type": "code",
   "execution_count": 7,
   "metadata": {},
   "outputs": [],
   "source": [
    "tbct_world_pivot = (TCBT\n",
    "                    .pivot_table(values = 'Stoim', index = ['nastranapr'], \n",
    "                                 columns = ['Year','napr'], aggfunc = np.sum)\n",
    "                    .to_excel(\"diploma_analysis.xlsx\", sheet_name=\"Россия и Мир\")\n",
    "                    )\n",
    "\n"
   ]
  },
  {
   "attachments": {},
   "cell_type": "markdown",
   "metadata": {},
   "source": [
    "# Удельный вес ведущих стран АТР в обороте, импорте и экспорте внешней товарной торговли РФ"
   ]
  },
  {
   "cell_type": "code",
   "execution_count": 8,
   "metadata": {},
   "outputs": [],
   "source": [
    "tcbt_apr_2021 = (TCBT\n",
    "                 .query(\"Year == 2021\")\n",
    "                 .rename(columns={\"nastranapr\" : \"city\"})\n",
    "                 .groupby(\"city\")[\"Stoim\"].sum()\n",
    "                 .to_frame()\n",
    "                 )"
   ]
  },
  {
   "cell_type": "code",
   "execution_count": 9,
   "metadata": {},
   "outputs": [],
   "source": [
    "tcbt_apr_2021 = (tcbt_apr_2021\n",
    "                 .assign(ves = (tcbt_apr_2021.Stoim / tcbt_apr_2021.Stoim.sum()) * 100)\n",
    "                 .query(\"city in @list_of_countries\")\n",
    "                 .to_excel(\"aboba.xlsx\", sheet_name=\"test\")\n",
    "                )"
   ]
  },
  {
   "cell_type": "code",
   "execution_count": 10,
   "metadata": {},
   "outputs": [],
   "source": [
    "tcbt_apr_2021_ei = (TCBT\n",
    "                    .query(\"Year == 2021\")\n",
    "                    .rename(columns={\"nastranapr\" : \"city\"})\n",
    "                    .pivot_table(values = \"Stoim\", index = [\"city\"],\n",
    "                                  columns = [\"napr\"], aggfunc = np.sum)\n",
    "                    )\n",
    "\n",
    "tcbt_apr_2021_ei = (tcbt_apr_2021_ei\n",
    "                    .assign(import_ves = (tcbt_apr_2021_ei.ИМ / tcbt_apr_2021_ei.ИМ.sum()) * 100,\n",
    "                            export_ves = (tcbt_apr_2021_ei.ЭК / tcbt_apr_2021_ei.ЭК.sum()) * 100)\n",
    "                    .query(\"city in @list_of_needed_countries\")\n",
    "                    .to_excel(\"aboba.xlsx\", sheet_name=\"test\")\n",
    "                    )"
   ]
  },
  {
   "attachments": {},
   "cell_type": "markdown",
   "metadata": {},
   "source": [
    "# Товарная структура внешней торговли РФ"
   ]
  },
  {
   "cell_type": "code",
   "execution_count": 26,
   "metadata": {},
   "outputs": [],
   "source": [
    "tcbt_tnved_2021_apr = (TCBT\n",
    "                   .query(\"nastranapr in @list_of_countries\")\n",
    "                   .pivot_table(values = 'Stoim', index = ['tnved'], \n",
    "                                columns = ['napr'], aggfunc = np.sum)\n",
    "                   #.to_excel(\"aboba.xlsx\", sheet_name=\"test\")\n",
    "                   )"
   ]
  },
  {
   "cell_type": "code",
   "execution_count": 24,
   "metadata": {},
   "outputs": [],
   "source": [
    "tcbt_tnved_2021 = (TCBT\n",
    "                   .pivot_table(values = 'Stoim', index = ['tnved'], \n",
    "                                columns = ['napr'], aggfunc = np.sum)\n",
    "                   .to_excel(\"aboba.xlsx\", sheet_name=\"test\")\n",
    "                   )"
   ]
  }
 ],
 "metadata": {
  "kernelspec": {
   "display_name": "Python 3",
   "language": "python",
   "name": "python3"
  },
  "language_info": {
   "codemirror_mode": {
    "name": "ipython",
    "version": 3
   },
   "file_extension": ".py",
   "mimetype": "text/x-python",
   "name": "python",
   "nbconvert_exporter": "python",
   "pygments_lexer": "ipython3",
   "version": "3.10.2"
  },
  "orig_nbformat": 4
 },
 "nbformat": 4,
 "nbformat_minor": 2
}
